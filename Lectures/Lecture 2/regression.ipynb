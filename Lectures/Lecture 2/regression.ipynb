{
 "cells": [
  {
   "cell_type": "markdown",
   "metadata": {
    "nbpresent": {
     "id": "8f2e0e30-1c98-48e3-8657-9e75c55d9cbf"
    },
    "slideshow": {
     "slide_type": "slide"
    }
   },
   "source": [
    "##  Regression\n",
    "\n",
    "### Maxim Panov & Mikhail Belyaev\n"
   ]
  },
  {
   "cell_type": "markdown",
   "metadata": {
    "nbpresent": {
     "id": "4cf0b51e-d334-4609-a0f7-dfa95e9efffa"
    },
    "slideshow": {
     "slide_type": "slide"
    }
   },
   "source": [
    "### Outline\n",
    "- Introduction\n",
    "- Linear regression\n",
    "- Linear regression with nonlinear basis functions\n",
    "- Nonlinear regression\n",
    "- Examples"
   ]
  },
  {
   "cell_type": "markdown",
   "metadata": {
    "slideshow": {
     "slide_type": "slide"
    }
   },
   "source": [
    "### Outline\n",
    "- **Introduction**\n",
    "- Linear regression\n",
    "- Linear regression with nonlinear basis functions\n",
    "- Nonlinear regression\n",
    "- Examples"
   ]
  },
  {
   "cell_type": "markdown",
   "metadata": {
    "nbpresent": {
     "id": "28b01fd8-f2c8-4d66-b4d8-6c6734d7b571"
    },
    "slideshow": {
     "slide_type": "slide"
    }
   },
   "source": [
    "### Regression\n",
    "\n",
    "- $X$, input - a description of some object;\n",
    "- $Y$, output - a characteristic of object;\n",
    "- $f$, dependency - some method of characteristic calculation based on object description;\n",
    "- $\\left(X, Y = f\\left(X\\right)\\right)$ - observations;\n",
    "- $S = \\left\\{X_i, Y_i\\right\\}_{i=1}^N$, training sample - a set of $N$ observations;\n",
    "- $\\hat f$, regression model - mathematical function which mimics original dependency $f$."
   ]
  },
  {
   "cell_type": "markdown",
   "metadata": {
    "nbpresent": {
     "id": "c1b261e7-7bfa-41f6-9902-a8f6cdac4fa5"
    },
    "slideshow": {
     "slide_type": "subslide"
    }
   },
   "source": [
    "### Regression\n",
    "- $X$ some $d_{in}$ - dimensional vector describing object design (e.g. geometry parameters of aircraft shape)\n",
    "- $Y$ some $d_{out}$-dimensional vector of an object characteristics with description $X$ (e.g. lift and drag coefficients)\n",
    "- The rule $f \\colon \\; X \\mapsto Y$ (e.g. CFD code or experiments in wind tunnel)\n",
    "\n",
    "![image](./figures/CFD_modified.png)"
   ]
  },
  {
   "cell_type": "markdown",
   "metadata": {
    "nbpresent": {
     "id": "120c97e7-051c-4fdb-80aa-2cd592aee009"
    },
    "slideshow": {
     "slide_type": "subslide"
    }
   },
   "source": [
    "### Olympic Marathon Data\n",
    "\n",
    "-   Gold medal times for Olympic Marathon since 1896.\n",
    "\n",
    "-   Marathons before 1924 didn’t have a standardised distance. Present results using pace per km.\n",
    "\n",
    "-   In 1904 Marathon was badly organised leading to very slow times.\n",
    "\n",
    "![image](./figures/Stephen_Kiprotich.jpg)\n",
    "Image from Wikimedia Commons <http://bit.ly/16kMKHQ>"
   ]
  },
  {
   "cell_type": "code",
   "execution_count": 1,
   "metadata": {
    "slideshow": {
     "slide_type": "subslide"
    }
   },
   "outputs": [],
   "source": [
    "import numpy as np\n",
    "import pandas as pd\n",
    "import seaborn as sns\n",
    "from matplotlib import pyplot as plt\n",
    "\n",
    "sns.set()\n",
    "%matplotlib inline"
   ]
  },
  {
   "cell_type": "code",
   "execution_count": 2,
   "metadata": {
    "nbpresent": {
     "id": "c73a47bf-833a-4638-8e2b-f23899d50442"
    },
    "slideshow": {
     "slide_type": "fragment"
    }
   },
   "outputs": [
    {
     "data": {
      "text/html": [
       "<div>\n",
       "<style scoped>\n",
       "    .dataframe tbody tr th:only-of-type {\n",
       "        vertical-align: middle;\n",
       "    }\n",
       "\n",
       "    .dataframe tbody tr th {\n",
       "        vertical-align: top;\n",
       "    }\n",
       "\n",
       "    .dataframe thead th {\n",
       "        text-align: right;\n",
       "    }\n",
       "</style>\n",
       "<table border=\"1\" class=\"dataframe\">\n",
       "  <thead>\n",
       "    <tr style=\"text-align: right;\">\n",
       "      <th></th>\n",
       "      <th>Year</th>\n",
       "      <th>Pace</th>\n",
       "    </tr>\n",
       "  </thead>\n",
       "  <tbody>\n",
       "    <tr>\n",
       "      <td>0</td>\n",
       "      <td>1896.0</td>\n",
       "      <td>4.470833</td>\n",
       "    </tr>\n",
       "    <tr>\n",
       "      <td>1</td>\n",
       "      <td>1900.0</td>\n",
       "      <td>4.464729</td>\n",
       "    </tr>\n",
       "    <tr>\n",
       "      <td>2</td>\n",
       "      <td>1904.0</td>\n",
       "      <td>5.222083</td>\n",
       "    </tr>\n",
       "    <tr>\n",
       "      <td>3</td>\n",
       "      <td>1908.0</td>\n",
       "      <td>4.154679</td>\n",
       "    </tr>\n",
       "    <tr>\n",
       "      <td>4</td>\n",
       "      <td>1912.0</td>\n",
       "      <td>3.903317</td>\n",
       "    </tr>\n",
       "  </tbody>\n",
       "</table>\n",
       "</div>"
      ],
      "text/plain": [
       "     Year      Pace\n",
       "0  1896.0  4.470833\n",
       "1  1900.0  4.464729\n",
       "2  1904.0  5.222083\n",
       "3  1908.0  4.154679\n",
       "4  1912.0  3.903317"
      ]
     },
     "execution_count": 2,
     "metadata": {},
     "output_type": "execute_result"
    }
   ],
   "source": [
    "olympic_marathon = pd.read_csv('olympic_marathon_men.csv')\n",
    "olympic_marathon.head()"
   ]
  },
  {
   "cell_type": "code",
   "execution_count": 3,
   "metadata": {
    "slideshow": {
     "slide_type": "subslide"
    }
   },
   "outputs": [
    {
     "data": {
      "text/plain": [
       "[<matplotlib.lines.Line2D at 0x1d9d4663308>]"
      ]
     },
     "execution_count": 3,
     "metadata": {},
     "output_type": "execute_result"
    },
    {
     "data": {
      "image/png": "[encoded data removed]",
      "text/plain": [
       "<Figure size 432x288 with 1 Axes>"
      ]
     },
     "metadata": {
      "needs_background": "light"
     },
     "output_type": "display_data"
    }
   ],
   "source": [
    "plt.plot(olympic_marathon['Year'], olympic_marathon['Pace'], 'ro', markersize=10)"
   ]
  },
  {
   "cell_type": "markdown",
   "metadata": {
    "slideshow": {
     "slide_type": "subslide"
    }
   },
   "source": [
    "![alt text](https://cdn-s3.si.com/s3fs-public/styles/marquee_large_2x/public/2018/09/16/eliud-kipchoge-marathon-world-record-berlin-2018.jpg?itok=jCgeutcf \"Eliud Kipchoge 2:01:39\")"
   ]
  },
  {
   "cell_type": "markdown",
   "metadata": {
    "nbpresent": {
     "id": "94c16cda-5ad4-4dcb-8953-dc48acdab002"
    },
    "slideshow": {
     "slide_type": "slide"
    }
   },
   "source": [
    "### Outline\n",
    "- Introduction\n",
    "- **Linear regression**\n",
    "- Linear regression with nonlinear basis functions\n",
    "- Nonlinear regression\n",
    "- Examples"
   ]
  },
  {
   "cell_type": "markdown",
   "metadata": {
    "slideshow": {
     "slide_type": "subslide"
    }
   },
   "source": [
    "### Linear Regression\n",
    "![image](./figures/linear_regression.PNG)"
   ]
  },
  {
   "cell_type": "markdown",
   "metadata": {
    "nbpresent": {
     "id": "22d29b6d-0926-4cc4-8431-48bb79660554"
    },
    "slideshow": {
     "slide_type": "subslide"
    }
   },
   "source": [
    "### Gaussian Density\n",
    "![](./figures/gaussian_of_height.svg)\n",
    "The Gaussian PDF with $\\mu=1.7$ and variance $\\sigma^2=\n",
    "  0.0225$. Mean shown as red line. It could represent the heights of a population of\n",
    "  students."
   ]
  },
  {
   "cell_type": "markdown",
   "metadata": {
    "nbpresent": {
     "id": "ea0f642e-6e31-4359-95d0-903721208f2c"
    },
    "slideshow": {
     "slide_type": "subslide"
    }
   },
   "source": [
    "### Gaussian Density\n",
    "$$\n",
    "\\mathcal{N}(y|\\mu, \\sigma^2) =  \\frac{1}{\\sqrt{2\\pi\\sigma^2}} \\exp\\left(-\\frac{(y-\\mu)^2}{2\\sigma^2}\\right),\n",
    "$$\n",
    "\n",
    "where $\\sigma^2$ is the variance of the density and $\\mu$ is the mean."
   ]
  },
  {
   "cell_type": "markdown",
   "metadata": {
    "nbpresent": {
     "id": "f416b490-11b0-4278-a08a-3fb6c57becaf"
    },
    "slideshow": {
     "slide_type": "subslide"
    }
   },
   "source": [
    "### Two Important Gaussian Properties\n",
    "\n",
    "**Sum of Gaussian**\n",
    "\n",
    "-   Sum of Gaussian variables is also Gaussian.\n",
    "    $$y_j \\sim \\mathcal{N}(\\mu_j, \\sigma_j^2)$$ \n",
    "    And the sum is distributed as\n",
    "    $$\\sum_{j=1}^{J} y_j \\sim \\mathcal{N}\\left(\\sum_{j=1}^J \\mu_j,\\sum_{j=1}^J \\sigma_j^2\\right)$$\n",
    "    \n",
    "    *Note*: As number of summands increases, sum of non-Gaussian, finite variance variables is\n",
    "    also Gaussian, see [central limit theorem](https://en.wikipedia.org/wiki/Central_limit_theorem)."
   ]
  },
  {
   "cell_type": "markdown",
   "metadata": {
    "nbpresent": {
     "id": "1f630611-df42-424f-9cea-e87b8e53a47d"
    },
    "slideshow": {
     "slide_type": "subslide"
    }
   },
   "source": [
    "### Two Important Gaussian Properties\n",
    "\n",
    "**Scaling a Gaussian**\n",
    "\n",
    "-   Scaling a Gaussian leads to a Gaussian.\n",
    "    $$y \\sim \\mathcal{N}(\\mu, \\sigma^2)$$\n",
    "    And the scaled density is distributed as\n",
    "    $$w y \\sim \\mathcal{N}(w\\mu,w^2 \\sigma^2)$$"
   ]
  },
  {
   "cell_type": "markdown",
   "metadata": {
    "nbpresent": {
     "id": "17e1095f-a0b7-4499-a745-eaff439c2e81"
    },
    "slideshow": {
     "slide_type": "subslide"
    }
   },
   "source": [
    "### Laplace's Idea\n",
    "\n",
    "### A Probabilistic Process\n",
    "\n",
    "-   Set the mean of Gaussian to be a function.\n",
    "    $$p\\left(y_i|x_i\\right)=\\frac{1}{\\sqrt{2\\pi\\sigma^2}}\\exp \\left(-\\frac{\\left(y_i-f\\left(x_i\\right)\\right)^{2}}{2\\sigma^2}\\right).$$\n",
    "\n",
    "-   This gives us a ‘noisy function’.\n",
    "\n",
    "-   This is known as a stochastic process."
   ]
  },
  {
   "cell_type": "markdown",
   "metadata": {
    "nbpresent": {
     "id": "6a1ce0cc-597b-491f-88bb-3a17aa8380b3"
    },
    "slideshow": {
     "slide_type": "subslide"
    }
   },
   "source": [
    "### Linear model\n",
    "\n",
    "-   In the standard Gaussian, parametized by mean and variance.\n",
    "\n",
    "-   Make the mean a linear function of an *input*.\n",
    "\n",
    "-   This leads to a regression model. \n",
    "    \\begin{align*}\n",
    "       y_i=&f\\left(x_i\\right)+\\epsilon_i,\\\\\n",
    "       f\\left(x\\right) =& mx + c\\\\\n",
    "         \\epsilon_i \\sim &\\mathcal{N}(0, \\sigma^2).\n",
    "     \\end{align*}\n",
    "        \n",
    "-   In our example, $y_i$ is pace and $x_i$ is year."
   ]
  },
  {
   "cell_type": "markdown",
   "metadata": {
    "nbpresent": {
     "id": "cc18287c-2093-4877-a442-228dbf1a5710"
    },
    "slideshow": {
     "slide_type": "subslide"
    }
   },
   "source": [
    "### Data Point Likelihood\n",
    "\n",
    "-   Likelihood of an individual data point\n",
    "    $$p\\left(y_i|x_i,m,c\\right)=\\frac{1}{\\sqrt{2\\pi \\sigma^2}}\\exp \\left(-\\frac{\\left(y_i-mx_i-c\\right)^{2}}{2\\sigma^2}\\right).$$\n",
    "\n",
    "-   Parameters are slope $m$ and offset $c$ of the function and noise variance $\\sigma^2$."
   ]
  },
  {
   "cell_type": "markdown",
   "metadata": {
    "nbpresent": {
     "id": "4b5a3cab-229a-4cb0-af06-2cf34990c930"
    },
    "slideshow": {
     "slide_type": "subslide"
    }
   },
   "source": [
    "### Data Set Likelihood\n",
    "\n",
    "-   If the noise, $\\epsilon_i$ is sampled independently for each\n",
    "    data point.\n",
    "\n",
    "-   Each data point is independent (given $m$ and $c$).\n",
    "\n",
    "-   For independent variables:\n",
    "    $$p(\\mathbf{y}) = \\prod_{i=1}^n p(y_i),$$\n",
    "    $$p(\\mathbf{y}|\\mathbf{x}, m, c) = \\prod_{i=1}^n p(y_i|x_i, m, c).$$"
   ]
  },
  {
   "cell_type": "markdown",
   "metadata": {
    "nbpresent": {
     "id": "12e9e7f7-e964-41ee-8964-394edf847707"
    },
    "slideshow": {
     "slide_type": "subslide"
    }
   },
   "source": [
    "### For Gaussian \n",
    "\n",
    "- i.i.d. assumption\n",
    "    \n",
    "    $$p(\\mathbf{y}|\\mathbf{x}, m, c) = \\prod_{i=1}^n \\frac{1}{\\sqrt{2\\pi \\sigma^2}}\\exp \\left(-\\frac{\\left(y_i-mx_i-c\\right)^{2}}{2\\sigma^2}\\right),$$\n",
    "    $$p(\\mathbf{y}|\\mathbf{x}, m, c) = \\frac{1}{\\left(2\\pi \\sigma^2\\right)^{\\frac{n}{2}}}\\exp \\left(-\\frac{\\sum_{i=1}^n\\left(y_i-mx_i-c\\right)^{2}}{2\\sigma^2}\\right).$$"
   ]
  },
  {
   "cell_type": "markdown",
   "metadata": {
    "nbpresent": {
     "id": "b368ac92-6f0d-4974-8ac4-b6d7525771e8"
    },
    "slideshow": {
     "slide_type": "subslide"
    }
   },
   "source": [
    "### Log Likelihood Function\n",
    "\n",
    "-   Normally work with the log likelihood:\n",
    "    $$L(m,c,\\sigma^{2})=-\\frac{n}{2}\\log 2\\pi -\\frac{n}{2}\\log \\sigma^2 -\\sum _{i=1}^{n}\\frac{\\left(y_i-mx_i-c\\right)^{2}}{2\\sigma^2}.$$"
   ]
  },
  {
   "cell_type": "markdown",
   "metadata": {
    "nbpresent": {
     "id": "1b2d9655-4ff1-4774-b1fa-6b47c5710fa5"
    },
    "slideshow": {
     "slide_type": "subslide"
    }
   },
   "source": [
    "### Connection: Sum of Squares Error\n",
    "\n",
    "-   Ignoring terms which don’t depend on $m$ and $c$ gives\n",
    "    $$E(m, c) \\propto \\sum_{i=1}^n (y_i - f(x_i))^2,$$\n",
    "    where $f(x_i) = mx_i + c$.\n",
    "\n",
    "-   This is known as the *sum of squares* error function.\n",
    "\n",
    "-   Commonly used and is closely associated with the\n",
    "    Gaussian likelihood."
   ]
  },
  {
   "cell_type": "markdown",
   "metadata": {
    "nbpresent": {
     "id": "2b084bae-8129-43f7-9510-a26631eb2f4b"
    },
    "slideshow": {
     "slide_type": "subslide"
    }
   },
   "source": [
    "### Learning is Optimization\n",
    "\n",
    "-   Learning is minimization of the cost function.\n",
    "\n",
    "-   At the minima the gradient is zero.\n",
    "\n",
    "-   Coordinate ascent, find gradient in each coordinate and set to zero."
   ]
  },
  {
   "cell_type": "markdown",
   "metadata": {
    "nbpresent": {
     "id": "38f95669-15b2-4a36-9cb5-22c44fabd713"
    },
    "slideshow": {
     "slide_type": "slide"
    }
   },
   "source": [
    "### Multi-dimensional Inputs\n",
    "\n",
    "-   Multivariate functions involve more than one input.\n",
    "\n",
    "-   Height might be a function of weight and gender.\n",
    "\n",
    "-   There could be other contributory factors.\n",
    "\n",
    "-   Place these factors in a feature vector $\\mathbf{x}_i$.\n",
    "\n",
    "-   Linear function is now defined as\n",
    "    $$f(\\mathbf{x}_i) = \\sum_{j=1}^p w_j x_{i, j} + c.$$"
   ]
  },
  {
   "cell_type": "markdown",
   "metadata": {
    "nbpresent": {
     "id": "5d7588a0-1d8d-4a1a-8d1a-85cf595fda85"
    },
    "slideshow": {
     "slide_type": "subslide"
    }
   },
   "source": [
    "### Vector Notation\n",
    "\n",
    "-   Write in vector notation\n",
    "    $$f(\\mathbf{x}_i) = \\mathbf{w}^\\top \\mathbf{x}_i + c.$$\n",
    "-   Can absorb $c$ into $\\mathbf{w}$ by assuming extra input $x_0$\n",
    "    which is always 1:\n",
    "    $$f(\\mathbf{x}_i) = \\mathbf{w}^\\top \\mathbf{x}_i.$$"
   ]
  },
  {
   "cell_type": "markdown",
   "metadata": {
    "nbpresent": {
     "id": "2b702e7b-3356-4004-a57f-c4259b774876"
    },
    "slideshow": {
     "slide_type": "subslide"
    }
   },
   "source": [
    "### Log Likelihood for Multivariate Regression\n",
    "\n",
    "-   The likelihood of a single data point is\n",
    "    $$p\\left(y_i|x_i\\right)=\\frac{1}{\\sqrt{2\\pi\\sigma^2}}\\exp\n",
    "        \\left(-\\frac{\\left(y_i-\\mathbf{w}^{\\top}\\mathbf{x}_i\\right)^{2}}{2\\sigma^2}\\right).$$\n",
    "\n",
    "-   Leading to a log likelihood for the data set of\n",
    "    $$L(\\mathbf{w},\\sigma^2)= -\\frac{n}{2}\\log \\sigma^2\n",
    "          -\\frac{n}{2}\\log 2\\pi -\\frac{\\sum\n",
    "            _{i=1}^{n}\\left(y_i-\\mathbf{w}^{\\top}\\mathbf{x}_i\\right)^{2}}{2\\sigma^2}.$$\n",
    "\n",
    "-   And a corresponding error function of\n",
    "    $$E(\\mathbf{w},\\sigma^2)= \\frac{n}{2}\\log\n",
    "          \\sigma^2 + \\frac{\\sum\n",
    "            _{i=1}^{n}\\left(y_i-\\mathbf{w}^{\\top}\\mathbf{x}_i\\right)^{2}}{2\\sigma^2}.$$"
   ]
  },
  {
   "cell_type": "markdown",
   "metadata": {
    "nbpresent": {
     "id": "549e9166-c556-4a21-8e0b-73adc7b18c06"
    },
    "slideshow": {
     "slide_type": "subslide"
    }
   },
   "source": [
    "### Update Equations\n",
    "\n",
    "-   Update for $\\mathbf{w}^{*}$.\n",
    "    $$\\mathbf{w}^{*} = \\left(\\mathbf{X}^\\top \\mathbf{X}\\right)^{-1} \\mathbf{X}^\\top \\mathbf{y}.$$\n",
    "\n",
    "-   The equation for $\\left.\\sigma^2\\right.^{*}$ may also be found\n",
    "    $$\\left.\\sigma^2\\right.^{{*}}=\\frac{\\sum _{i=1}^{n}\\left(y_i-\\left.\\mathbf{w}^{*}\\right.^{\\top}\\mathbf{x}_i\\right)^{2}}{n}.$$"
   ]
  },
  {
   "cell_type": "markdown",
   "metadata": {
    "nbpresent": {
     "id": "af36983f-36da-42ea-9ecf-5d6d45ee0e34"
    },
    "slideshow": {
     "slide_type": "slide"
    }
   },
   "source": [
    "### Outline\n",
    "- Introduction\n",
    "- Linear regression\n",
    "- **Linear regression with nonlinear basis functions**\n",
    "- Nonlinear regression\n",
    "- Examples"
   ]
  },
  {
   "cell_type": "markdown",
   "metadata": {
    "nbpresent": {
     "id": "db329f5f-adf4-4d15-800c-b95718219a1d"
    },
    "slideshow": {
     "slide_type": "subslide"
    }
   },
   "source": [
    "### Linear Regression with nonlinear basis functions\n",
    "\n",
    "-   Problem with Linear Regression — $\\mathbf{x}$ may not be linearly\n",
    "    related to $\\mathbf{y}$.\n",
    "\n",
    "-   Potential solution: create a feature space: define\n",
    "    $\\phi(\\mathbf{x})$ where $\\phi(\\cdot)$ is a\n",
    "    nonlinear function of $\\mathbf{x}$.\n",
    "\n",
    "-   Model for target is a linear combination of these nonlinear\n",
    "    functions\n",
    "    $$f(\\mathbf{x}) = \\sum_{j=1}^k w_j \\phi_j(\\mathbf{x}).$$"
   ]
  },
  {
   "cell_type": "markdown",
   "metadata": {
    "nbpresent": {
     "id": "9363f9e7-dd6f-419c-a1a9-7579ef45bc33"
    },
    "slideshow": {
     "slide_type": "subslide"
    }
   },
   "source": [
    "### Quadratic Basis\n",
    "\n",
    "-   Basis functions can be global. E.g. quadratic basis:\n",
    "    $$\\boldsymbol{\\phi} = [1, x, x^2].$$\n",
    "    \n",
    "![image](./figures/polynomial_basis003.svg)\n",
    "    \n"
   ]
  },
  {
   "cell_type": "markdown",
   "metadata": {
    "nbpresent": {
     "id": "0862a527-7cd6-491e-b1ff-30eb0de9f3ac"
    },
    "slideshow": {
     "slide_type": "subslide"
    }
   },
   "source": [
    "### Functions Derived from Quadratic Basis\n",
    "\n",
    "$$f(x) = {\\color{\\redColor}w_0} + {\\color{\\magentaColor}w_1x} + {\\color{\\blueColor}w_2 x^2}.$$\n",
    "\n",
    "\n",
    "![image](./figures/polynomial_function003.svg)\n"
   ]
  },
  {
   "cell_type": "markdown",
   "metadata": {
    "nbpresent": {
     "id": "0b454dfa-5e84-47d7-8fcc-0cc4dbbb6071"
    },
    "slideshow": {
     "slide_type": "subslide"
    }
   },
   "source": [
    "### Radial Basis Functions\n",
    "\n",
    "$$\\phi_j(x) = \\exp\\left(-\\frac{(x-\\mu_j)^2}{\\ell^2}\\right).$$\n",
    "    \n",
    "![image](./figures/radial_basis003.svg)\n"
   ]
  },
  {
   "cell_type": "markdown",
   "metadata": {
    "nbpresent": {
     "id": "c17d498c-c9dd-45c2-bd51-852b44108d48"
    },
    "slideshow": {
     "slide_type": "subslide"
    }
   },
   "source": [
    "### Functions Derived from Radial Basis\n",
    "\n",
    "$$f(x) = {\\color{\\redColor}w_1 e^{-2(x+1)^2}}  + {\\color{\\magentaColor}w_2e^{-2x^2}} + {\\color{\\blueColor}w_3 e^{-2(x-1)^2}}.$$\n",
    "\n",
    "![image](./figures/radial_function003.svg)"
   ]
  },
  {
   "cell_type": "markdown",
   "metadata": {
    "nbpresent": {
     "id": "9432f783-3874-4a2f-8789-1637b790a131"
    },
    "slideshow": {
     "slide_type": "subslide"
    }
   },
   "source": [
    "### Basis Function Models\n",
    "\n",
    "-   The *prediction function* is now defined as\n",
    "    $$f(\\mathbf{x}_i) = \\sum_{j=1}^m w_j \\phi_{i, j}.$$\n"
   ]
  },
  {
   "cell_type": "markdown",
   "metadata": {
    "nbpresent": {
     "id": "6f2a55cf-2ec8-421a-89b2-e1498402fe16"
    },
    "slideshow": {
     "slide_type": "subslide"
    }
   },
   "source": [
    "## Vector Notation\n",
    "\n",
    "-   Write in vector notation:\n",
    "    $$f(\\mathbf{x}_i) = \\mathbf{w}^\\top \\boldsymbol{\\phi}_i.$$"
   ]
  },
  {
   "cell_type": "markdown",
   "metadata": {
    "nbpresent": {
     "id": "1fa8bb8c-ca46-4099-ab96-f8e14566c79e"
    },
    "slideshow": {
     "slide_type": "subslide"
    }
   },
   "source": [
    "### Log Likelihood for Basis Function Model\n",
    "\n",
    "-   The likelihood of a single data point is\n",
    "    $$p\\left(y_i|x_i\\right)=\\frac{1}{\\sqrt{2\\pi\\sigma^2}}\\exp\n",
    "        \\left(-\\frac{\\left(y_i-\\mathbf{w}^{\\top}\\boldsymbol{\\phi}_i\\right)^{2}}{2\\sigma^2}\\right).$$"
   ]
  },
  {
   "cell_type": "markdown",
   "metadata": {
    "nbpresent": {
     "id": "49c0411d-97f8-4df2-8812-9ba1a621d618"
    },
    "slideshow": {
     "slide_type": "subslide"
    }
   },
   "source": [
    "### Log Likelihood for Basis Function Model\n",
    "\n",
    "-   Leading to a log likelihood for the data set of\n",
    "    $$L(\\mathbf{w},\\sigma^2)= -\\frac{n}{2}\\log \\sigma^2\n",
    "          -\\frac{n}{2}\\log 2\\pi -\\frac{\\sum\n",
    "            _{i=1}^{n}\\left(y_i-\\mathbf{w}^{\\top}\\boldsymbol{\\phi}_i\\right)^{2}}{2\\sigma^2}.$$\n",
    "\n",
    " "
   ]
  },
  {
   "cell_type": "markdown",
   "metadata": {
    "nbpresent": {
     "id": "7d50d8e6-1c20-4f51-9b51-ed6eca91e2e2"
    },
    "slideshow": {
     "slide_type": "subslide"
    }
   },
   "source": [
    "### Objective Function\n",
    "\n",
    "- And a corresponding *objective function* of the form\n",
    "    $$E(\\mathbf{w},\\sigma^2)= \\frac{n}{2}\\log\n",
    "          \\sigma^2 + \\frac{\\sum\n",
    "            _{i=1}^{n}\\left(y_i-\\mathbf{w}^{\\top}\\boldsymbol{\\phi}_i\\right)^{2}}{2\\sigma^2}.$$"
   ]
  },
  {
   "cell_type": "markdown",
   "metadata": {
    "nbpresent": {
     "id": "16bc5627-9ba4-4719-b823-9230aee1c8f2"
    },
    "slideshow": {
     "slide_type": "subslide"
    }
   },
   "source": [
    "### Expand the Brackets\n",
    "\n",
    "$$\\begin{align}\n",
    "  E(\\mathbf{w},\\sigma^2) =  &\\frac{n}{2}\\log \\sigma^2 + \\frac{1}{2\\sigma^2}\\sum _{i=1}^{n}y_i^{2}-\\frac{1}{\\sigma^2}\\sum _{i=1}^{n}y_i\\mathbf{w}^{\\top}\\boldsymbol{\\phi}_i\\\\ &+\\frac{1}{2\\sigma^2}\\sum _{i=1}^{n}\\mathbf{w}^{\\top}\\boldsymbol{\\phi}_i\\boldsymbol{\\phi}_i^{\\top}\\mathbf{w} +\\text{const}.\\end{align}$$\n",
    " "
   ]
  },
  {
   "cell_type": "markdown",
   "metadata": {
    "nbpresent": {
     "id": "a0dc1c2c-3945-4cf8-8e93-5f13b49752d7"
    },
    "slideshow": {
     "slide_type": "subslide"
    }
   },
   "source": [
    "### Matrix Notation\n",
    "\n",
    "Rewrite in matrix notation:\n",
    "$$\\sum _{i=1}^{n}\\boldsymbol{\\phi}_i\\boldsymbol{\\phi}_i^\\top = \\boldsymbol{\\Phi}^\\top \\boldsymbol{\\Phi};$$\n",
    "$$\\sum _{i=1}^{n}\\boldsymbol{\\phi}_iy_i = \\boldsymbol{\\Phi}^\\top \\mathbf{y}.$$"
   ]
  },
  {
   "cell_type": "markdown",
   "metadata": {
    "slideshow": {
     "slide_type": "subslide"
    }
   },
   "source": [
    "### Normal equation\n",
    "\n",
    "-   Norma equation for $\\mathbf{w}^{*}$:\n",
    "    $$\\mathbf{w}^{*} = \\left(\\boldsymbol{\\Phi}^\\top \\boldsymbol{\\Phi}\\right)^{-1} \\boldsymbol{\\Phi}^\\top \\mathbf{y}.$$\n",
    "    \n",
    "-   The equation for $\\left.\\sigma^2\\right.^{*}$ may also be found\n",
    "    $$\\left.\\sigma^2\\right.^{{*}}=\\frac{\\sum _{i=1}^{n}\\left(y_i-\\left.\\mathbf{w}^{*}\\right.^{\\top}\\boldsymbol{\\phi}_i\\right)^{2}}{n}.$$"
   ]
  },
  {
   "cell_type": "markdown",
   "metadata": {
    "nbpresent": {
     "id": "2db773bf-2b24-498a-a197-ce23d7aaac2f"
    },
    "slideshow": {
     "slide_type": "subslide"
    }
   },
   "source": [
    "### Polynomial Fits to Olympic Data\n",
    "\n",
    "![image](./figures/olympic_LM_polynomial_num_basis001.svg)"
   ]
  },
  {
   "cell_type": "markdown",
   "metadata": {
    "nbpresent": {
     "id": "a2bf681c-3823-4664-8cc4-9e844c5a8538"
    },
    "slideshow": {
     "slide_type": "subslide"
    }
   },
   "source": [
    "### Polynomial Fits to Olympic Data\n",
    "\n",
    "![image](./figures/olympic_LM_polynomial_num_basis002.svg)"
   ]
  },
  {
   "cell_type": "markdown",
   "metadata": {
    "nbpresent": {
     "id": "a01144d7-38bd-4b3b-8102-9792740cbd09"
    },
    "slideshow": {
     "slide_type": "subslide"
    }
   },
   "source": [
    "### Polynomial Fits to Olympic Data\n",
    "\n",
    "![image](./figures/olympic_LM_polynomial_num_basis003.svg)"
   ]
  },
  {
   "cell_type": "markdown",
   "metadata": {
    "nbpresent": {
     "id": "362d936c-3236-4d6a-8372-0c986f0638a8"
    },
    "slideshow": {
     "slide_type": "subslide"
    }
   },
   "source": [
    "### Polynomial Fits to Olympic Data\n",
    "\n",
    "![image](./figures/olympic_LM_polynomial_num_basis004.svg)"
   ]
  },
  {
   "cell_type": "markdown",
   "metadata": {
    "nbpresent": {
     "id": "465bffc5-b411-40c9-a190-fa52c16b91a1"
    },
    "slideshow": {
     "slide_type": "subslide"
    }
   },
   "source": [
    "### Polynomial Fits to Olympic Data\n",
    "\n",
    "![image](./figures/olympic_LM_polynomial_num_basis005.svg)"
   ]
  },
  {
   "cell_type": "markdown",
   "metadata": {
    "nbpresent": {
     "id": "5b016ad1-bcab-4631-afe8-8580d33b7d6c"
    },
    "slideshow": {
     "slide_type": "subslide"
    }
   },
   "source": [
    "### Polynomial Fits to Olympic Data\n",
    "\n",
    "![image](./figures/olympic_LM_polynomial_num_basis006.svg)"
   ]
  },
  {
   "cell_type": "markdown",
   "metadata": {
    "nbpresent": {
     "id": "5863b66f-2fca-4f12-9158-86bd98af3d29"
    },
    "slideshow": {
     "slide_type": "subslide"
    }
   },
   "source": [
    "### Polynomial Fits to Olympic Data\n",
    "![image](./figures/olympic_LM_polynomial_num_basis007.svg)"
   ]
  },
  {
   "cell_type": "markdown",
   "metadata": {
    "nbpresent": {
     "id": "24d6141e-0b06-4632-a30b-4906c8391e7f"
    },
    "slideshow": {
     "slide_type": "slide"
    }
   },
   "source": [
    "### Outline\n",
    "- Introduction\n",
    "- Linear regression\n",
    "- Linear regression with nonlinear basis functions\n",
    "- **Nonlinear regression**\n",
    "- Examples"
   ]
  },
  {
   "cell_type": "markdown",
   "metadata": {
    "nbpresent": {
     "id": "5ea105c8-850b-48b0-ac91-5e0d43028b71"
    },
    "slideshow": {
     "slide_type": "subslide"
    }
   },
   "source": [
    "There are many methods doing nonlinear regression:\n",
    "- Neural networks\n",
    "- Support-vector regression\n",
    "- Nearest neighbours\n",
    "- Gaussian process regression\n",
    "- Regression trees and forests\n",
    "- ..."
   ]
  },
  {
   "cell_type": "markdown",
   "metadata": {
    "nbpresent": {
     "id": "7ac71b15-da09-4878-abe5-ab79266814a7"
    },
    "slideshow": {
     "slide_type": "subslide"
    }
   },
   "source": [
    "Many of them are doing almost the same as linear regression:\n",
    "$$f(\\mathbf{x}) = \\sum_{j=1}^k w_j \\phi_j(\\mathbf{x}, \\theta_j).$$"
   ]
  },
  {
   "cell_type": "markdown",
   "metadata": {
    "slideshow": {
     "slide_type": "slide"
    }
   },
   "source": [
    "### Outline\n",
    "- Introduction\n",
    "- Linear regression\n",
    "- Linear regression with nonlinear basis functions\n",
    "- Nonlinear regression\n",
    "- **Examples**"
   ]
  },
  {
   "cell_type": "markdown",
   "metadata": {
    "slideshow": {
     "slide_type": "subslide"
    }
   },
   "source": [
    "### Example: Artificial Linear data\n",
    "Let's create artificial linear data set \n",
    "$$ y = a + bx$$\n"
   ]
  },
  {
   "cell_type": "code",
   "execution_count": 4,
   "metadata": {
    "slideshow": {
     "slide_type": "subslide"
    }
   },
   "outputs": [
    {
     "data": {
      "text/plain": [
       "<matplotlib.collections.PathCollection at 0x1d9d4dac748>"
      ]
     },
     "execution_count": 4,
     "metadata": {},
     "output_type": "execute_result"
    },
    {
     "data": {
      "image/png": "[encoded data removed]",
      "text/plain": [
       "<Figure size 432x288 with 1 Axes>"
      ]
     },
     "metadata": {
      "needs_background": "light"
     },
     "output_type": "display_data"
    }
   ],
   "source": [
    "a = 5\n",
    "b = 10\n",
    "n_points = 20\n",
    "x_min = 0\n",
    "x_max = 3\n",
    "\n",
    "x = np.linspace(x_min, x_max, n_points)[:, np.newaxis]\n",
    "y = a + b * x\n",
    "\n",
    "plt.scatter(x, y, s=80, c ='r', edgecolors='k', linewidths=0.3)\n"
   ]
  },
  {
   "cell_type": "markdown",
   "metadata": {
    "slideshow": {
     "slide_type": "subslide"
    }
   },
   "source": [
    "\n",
    "Assuming we do not know actual values of $a$ and $b$,\n",
    "how to find them if we only observe $x$ and $y$?\n",
    "\n",
    "The answer is Normal Equation:\n",
    "\n",
    "$$\\mathbf{w} = \\left(\\mathbf{X}^\\top \\mathbf{X}\\right)^{-1} \\mathbf{X}^\\top \\mathbf{y},$$\n",
    "\n",
    "where: $$\\mathbf{w} = [a, b]$$ $$\\mathbf{x} = [1, x] $$ $$\\mathbf{X} = [\\mathbf{x_1}, \\dots, \\mathbf{x_n}]$$ $$\\mathbf{y} = [\\mathbf{y_1}, \\dots, \\mathbf{y_n}]$$\n",
    "\n",
    "Then, using these parameters we can model $y's$ as follow:\n",
    "$$\\mathbf{y} = \\mathbf{w}^\\top \\mathbf{x}$$\n"
   ]
  },
  {
   "cell_type": "code",
   "execution_count": 5,
   "metadata": {
    "slideshow": {
     "slide_type": "subslide"
    }
   },
   "outputs": [
    {
     "name": "stdout",
     "output_type": "stream",
     "text": [
      "Computed line parameters:\n",
      "\n",
      "w[0] = 10.000000000000004\n",
      "w[1] = 4.9999999999999964       \n",
      "\n",
      "Actual line parameters:\n",
      " \n",
      "b = 10\n",
      "a = 5\n"
     ]
    }
   ],
   "source": [
    "X = np.concatenate([np.ones((n_points,1)), x], axis=1) # add intercept term\n",
    "\n",
    "w =  np.linalg.inv(X.T.dot(X)).dot(X.T).dot(y) # compute w\n",
    "\n",
    "# .dot() is just a matrix multiplication\n",
    "# np.linalg.inv(X) returns inverse of X\n",
    "\n",
    "print('Computed line parameters:\\n\\nw[0] = {}\\nw[1] = {}\\\n",
    "       \\n\\nActual line parameters:\\n \\nb = {}\\na = {}'\\\n",
    "       .format(w[1][0], w[0][0], b,a))"
   ]
  },
  {
   "cell_type": "code",
   "execution_count": 6,
   "metadata": {
    "slideshow": {
     "slide_type": "subslide"
    }
   },
   "outputs": [],
   "source": [
    "def mean_squared_error(y_true, y_predicted):\n",
    "    return ((y_true - y_predicted)**2).mean()"
   ]
  },
  {
   "cell_type": "markdown",
   "metadata": {
    "slideshow": {
     "slide_type": "fragment"
    }
   },
   "source": [
    "- Now let's see how could we measure the goodness of the fit numerically\n",
    "\n",
    "- We use Mean Squared Error (MSE) which is nothing but SSE / n_points"
   ]
  },
  {
   "cell_type": "code",
   "execution_count": 7,
   "metadata": {
    "slideshow": {
     "slide_type": "subslide"
    }
   },
   "outputs": [
    {
     "data": {
      "image/png": "[encoded data removed]",
      "text/plain": [
       "<Figure size 432x288 with 1 Axes>"
      ]
     },
     "metadata": {
      "needs_background": "light"
     },
     "output_type": "display_data"
    }
   ],
   "source": [
    "y_regression = X.dot(w) # compute predicted y\n",
    "\n",
    "# y_regression stores predicted values\n",
    "# y stores original values\n",
    "\n",
    "plt.scatter(x,y, s=80, c ='r', edgecolors='k', linewidths=0.3);\n",
    "plt.plot(x, y_regression);\n",
    "plt.title('MSE = {}'.format(mean_squared_error(y, y_regression)));"
   ]
  },
  {
   "cell_type": "code",
   "execution_count": 8,
   "metadata": {
    "slideshow": {
     "slide_type": "skip"
    }
   },
   "outputs": [],
   "source": [
    "# define simple linear regression\n",
    "def simple_linear_regression(X,y):\n",
    "    w = np.linalg.inv(X.T.dot(X)).dot(X.T).dot(y) \n",
    "    return X.dot(w), w"
   ]
  },
  {
   "cell_type": "markdown",
   "metadata": {
    "slideshow": {
     "slide_type": "slide"
    }
   },
   "source": [
    "Not too interesting, let's add some white noise:\n",
    "$$ y = a + bx + \\mathcal{N}(0, 1)$$"
   ]
  },
  {
   "cell_type": "code",
   "execution_count": 9,
   "metadata": {
    "slideshow": {
     "slide_type": "fragment"
    }
   },
   "outputs": [
    {
     "data": {
      "image/png": "[encoded data removed]",
      "text/plain": [
       "<Figure size 432x288 with 1 Axes>"
      ]
     },
     "metadata": {
      "needs_background": "light"
     },
     "output_type": "display_data"
    }
   ],
   "source": [
    "a = 5\n",
    "b = 10\n",
    "n_points = 20\n",
    "x_min = 0\n",
    "x_max = 3\n",
    "\n",
    "x = np.linspace(x_min, x_max, n_points)[:, np.newaxis]\n",
    "completely_random_number = 42\n",
    "rs = np.random.RandomState(completely_random_number) # Just for reproducibility \n",
    "noise = rs.normal(0, 5, (n_points, 1))\n",
    "\n",
    "y_noised = a + b * x + noise \n",
    "plt.scatter(x,y_noised, s=80, c ='r', edgecolors='k', linewidths=0.3);"
   ]
  },
  {
   "cell_type": "code",
   "execution_count": 10,
   "metadata": {
    "slideshow": {
     "slide_type": "slide"
    }
   },
   "outputs": [
    {
     "name": "stdout",
     "output_type": "stream",
     "text": [
      "[[8.87283317]\n",
      " [6.84711602]]\n"
     ]
    },
    {
     "data": {
      "image/png": "[encoded data removed]",
      "text/plain": [
       "<Figure size 432x288 with 1 Axes>"
      ]
     },
     "metadata": {
      "needs_background": "light"
     },
     "output_type": "display_data"
    }
   ],
   "source": [
    "### With noise\n",
    "\n",
    "X = np.concatenate([np.ones((n_points,1)), x], axis=1)\n",
    "\n",
    "y_regression, w = simple_linear_regression(X, y_noised)\n",
    "\n",
    "plt.scatter(x,y_noised, s=80, c ='r', edgecolors='k', linewidths=0.3);\n",
    "plt.plot(x, y_regression);\n",
    "plt.title('MSE = {}'.format(np.round(mean_squared_error(y_noised, y_regression), 3)));\n",
    "print(w)"
   ]
  },
  {
   "cell_type": "code",
   "execution_count": null,
   "metadata": {},
   "outputs": [],
   "source": []
  },
  {
   "cell_type": "markdown",
   "metadata": {
    "slideshow": {
     "slide_type": "slide"
    }
   },
   "source": [
    "### Example: Olympic data"
   ]
  },
  {
   "cell_type": "code",
   "execution_count": 11,
   "metadata": {
    "slideshow": {
     "slide_type": "slide"
    }
   },
   "outputs": [],
   "source": [
    "X = olympic_marathon[['Year']] \n",
    "# double brackets allow to preserve X as a \"matrix\"\n",
    "y = olympic_marathon['Pace']"
   ]
  },
  {
   "cell_type": "code",
   "execution_count": 12,
   "metadata": {
    "slideshow": {
     "slide_type": "slide"
    }
   },
   "outputs": [
    {
     "data": {
      "image/png": "[encoded data removed]",
      "text/plain": [
       "<Figure size 432x288 with 1 Axes>"
      ]
     },
     "metadata": {
      "needs_background": "light"
     },
     "output_type": "display_data"
    }
   ],
   "source": [
    "plt.plot(X, y, 'ro', markersize=10);"
   ]
  },
  {
   "cell_type": "code",
   "execution_count": 13,
   "metadata": {
    "slideshow": {
     "slide_type": "slide"
    }
   },
   "outputs": [],
   "source": [
    "from sklearn.linear_model import LinearRegression\n",
    "\n",
    "lr = LinearRegression(fit_intercept=True)\n",
    "lr.fit(X, y)\n",
    "y_pred = lr.predict(X)"
   ]
  },
  {
   "cell_type": "code",
   "execution_count": 14,
   "metadata": {
    "slideshow": {
     "slide_type": "fragment"
    }
   },
   "outputs": [
    {
     "data": {
      "image/png": "[encoded data removed]",
      "text/plain": [
       "<Figure size 432x288 with 1 Axes>"
      ]
     },
     "metadata": {
      "needs_background": "light"
     },
     "output_type": "display_data"
    }
   ],
   "source": [
    "plt.plot(X, y, 'ro', markersize=10);\n",
    "plt.plot(X, y_pred, linewidth=4);\n",
    "plt.title('Train MSE = {}'.format(mean_squared_error(y, y_pred)));"
   ]
  },
  {
   "cell_type": "code",
   "execution_count": 15,
   "metadata": {
    "slideshow": {
     "slide_type": "slide"
    }
   },
   "outputs": [],
   "source": [
    "from sklearn.pipeline import make_pipeline\n",
    "from sklearn.preprocessing import PolynomialFeatures\n",
    "\n",
    "poly = make_pipeline(PolynomialFeatures(degree=5), \n",
    "                     LinearRegression(fit_intercept=False)\n",
    "                    )\n",
    "poly.fit(X, y)\n",
    "y_pred = poly.predict(X)"
   ]
  },
  {
   "cell_type": "code",
   "execution_count": 16,
   "metadata": {
    "slideshow": {
     "slide_type": "fragment"
    }
   },
   "outputs": [
    {
     "data": {
      "image/png": "[encoded data removed]",
      "text/plain": [
       "<Figure size 432x288 with 1 Axes>"
      ]
     },
     "metadata": {
      "needs_background": "light"
     },
     "output_type": "display_data"
    }
   ],
   "source": [
    "plt.plot(X, y, 'ro', markersize=10);\n",
    "plt.plot(X, y_pred, linewidth=4);\n",
    "plt.title('Train MSE = {}'.format(mean_squared_error(y, y_pred)));"
   ]
  },
  {
   "cell_type": "markdown",
   "metadata": {
    "slideshow": {
     "slide_type": "slide"
    }
   },
   "source": [
    "### So far it seems that our regression problem is solved, isn't it?\n",
    "Let's see\n",
    "### Example: Tricky one"
   ]
  },
  {
   "cell_type": "code",
   "execution_count": 17,
   "metadata": {
    "slideshow": {
     "slide_type": "fragment"
    }
   },
   "outputs": [
    {
     "data": {
      "image/png": "[encoded data removed]",
      "text/plain": [
       "<Figure size 432x288 with 1 Axes>"
      ]
     },
     "metadata": {
      "needs_background": "light"
     },
     "output_type": "display_data"
    }
   ],
   "source": [
    "x = np.array([[ 0.76923077,  1.12820513,  1.48717949,  1.84615385,  2.20512821,\n",
    "         2.56410256,  2.92307692,  3.28205128,  3.64102564,  4.        ]]).T\n",
    "\n",
    "y = np.array([[  9.84030322,  26.33596415,  16.68207941,  12.43191433,\n",
    "         28.76859577,  32.31335979,  35.26001044,  31.73889375,\n",
    "         45.28107096,  46.6252025 ]]).T\n",
    "\n",
    "n_points = 10\n",
    "\n",
    "plt.scatter(x,y, s=80, c ='r', edgecolors='k', linewidths=0.3);"
   ]
  },
  {
   "cell_type": "code",
   "execution_count": 18,
   "metadata": {
    "slideshow": {
     "slide_type": "skip"
    }
   },
   "outputs": [],
   "source": [
    "def simple_plot(x, y, y_regression, test_idx=None, prefix=''):\n",
    "    plt.scatter(x,y, s=80, c ='r', edgecolors='k', linewidths=0.3);\n",
    "    plt.plot(x,y_regression);\n",
    "    if test_idx is not None:\n",
    "        plt.scatter(x[test_idx], y[test_idx], s=80, c ='b', edgecolors='k', linewidths=0.3);\n",
    "    plt.title('{} MSE = {}'.format(prefix, mean_squared_error(y, y_regression)));"
   ]
  },
  {
   "cell_type": "code",
   "execution_count": 19,
   "metadata": {
    "slideshow": {
     "slide_type": "slide"
    }
   },
   "outputs": [
    {
     "data": {
      "image/png": "[encoded data removed]",
      "text/plain": [
       "<Figure size 432x288 with 1 Axes>"
      ]
     },
     "metadata": {
      "needs_background": "light"
     },
     "output_type": "display_data"
    }
   ],
   "source": [
    "# Linear fit\n",
    "lr = LinearRegression(fit_intercept=False)\n",
    "lr.fit(x, y)\n",
    "y_regression = lr.predict(x)\n",
    "\n",
    "simple_plot(x, y, y_regression, prefix='Train') "
   ]
  },
  {
   "cell_type": "markdown",
   "metadata": {
    "slideshow": {
     "slide_type": "slide"
    }
   },
   "source": [
    "### Let's do \"better'', add polynomial features $x^2$ and $x^3$"
   ]
  },
  {
   "cell_type": "code",
   "execution_count": 20,
   "metadata": {
    "slideshow": {
     "slide_type": "fragment"
    }
   },
   "outputs": [
    {
     "data": {
      "image/png": "[encoded data removed]",
      "text/plain": [
       "<Figure size 432x288 with 1 Axes>"
      ]
     },
     "metadata": {
      "needs_background": "light"
     },
     "output_type": "display_data"
    }
   ],
   "source": [
    "poly_3 = make_pipeline(PolynomialFeatures(degree=3),\n",
    "                    LinearRegression(fit_intercept=False)\n",
    ")\n",
    "poly_3.fit(x, y)\n",
    "y_regression = poly_3.predict(x)\n",
    "\n",
    "simple_plot(x, y, y_regression, prefix='Train')"
   ]
  },
  {
   "cell_type": "markdown",
   "metadata": {
    "slideshow": {
     "slide_type": "slide"
    }
   },
   "source": [
    "### And even better"
   ]
  },
  {
   "cell_type": "code",
   "execution_count": 21,
   "metadata": {
    "slideshow": {
     "slide_type": "fragment"
    }
   },
   "outputs": [
    {
     "data": {
      "image/png": "[encoded data removed]",
      "text/plain": [
       "<Figure size 432x288 with 1 Axes>"
      ]
     },
     "metadata": {
      "needs_background": "light"
     },
     "output_type": "display_data"
    }
   ],
   "source": [
    "poly_9 = make_pipeline(PolynomialFeatures(degree=9),\n",
    "                    LinearRegression(fit_intercept=False)\n",
    ")\n",
    "poly_9.fit(x, y)\n",
    "y_regression = poly_9.predict(x)\n",
    "\n",
    "simple_plot(x, y, y_regression, prefix='Train')"
   ]
  },
  {
   "cell_type": "markdown",
   "metadata": {
    "slideshow": {
     "slide_type": "fragment"
    }
   },
   "source": [
    "###  MSE = 0 seems much better than 28.42 right?\n",
    "\n",
    "Not really if I told you that the real function wich produce such x'es and y's\n",
    "is linear function with some white noise"
   ]
  },
  {
   "cell_type": "code",
   "execution_count": 22,
   "metadata": {
    "slideshow": {
     "slide_type": "slide"
    }
   },
   "outputs": [
    {
     "data": {
      "image/png": "[encoded data removed]",
      "text/plain": [
       "<Figure size 1080x360 with 2 Axes>"
      ]
     },
     "metadata": {
      "needs_background": "light"
     },
     "output_type": "display_data"
    }
   ],
   "source": [
    "#Generating data\n",
    "a = 5\n",
    "b = 10\n",
    "n_points = 40\n",
    "x_min = 0.5\n",
    "x_max = 4\n",
    "\n",
    "x = np.linspace(x_min, x_max, n_points)[:, np.newaxis]\n",
    "completely_random_number = 33\n",
    "rs = np.random.RandomState(completely_random_number) # Just for reproducibility \n",
    "noise = rs.normal(0, 5, (n_points, 1))\n",
    "\n",
    "y = a + b * x + noise\n",
    "idx = np.arange(3, 40, 4)\n",
    "\n",
    "plt.figure(figsize=(15, 5))\n",
    "plt.subplot(1, 2, 1)\n",
    "plt.scatter(x,y, s=80, c ='b', edgecolors='k', linewidths=0.3);\n",
    "plt.scatter(x[idx], y[idx], s=80, c='r');\n",
    "plt.subplot(1,2,2)\n",
    "plt.scatter(x[idx], y[idx], s=80, c ='r', edgecolors='k', linewidths=0.3);"
   ]
  },
  {
   "cell_type": "markdown",
   "metadata": {
    "slideshow": {
     "slide_type": "slide"
    }
   },
   "source": [
    "Now if use whole data to compare our \"best model\" which achieve MSE = 0 on red points, with simple linear model (MSE=28.42 on red points) we will see the difference. \n"
   ]
  },
  {
   "cell_type": "code",
   "execution_count": 23,
   "metadata": {
    "slideshow": {
     "slide_type": "fragment"
    }
   },
   "outputs": [
    {
     "name": "stdout",
     "output_type": "stream",
     "text": [
      "Error for regression with 3rd degree polynomial 27.303246314014864\n",
      "Error for regression with 9th degree polynomial 25487.45884052039\n"
     ]
    }
   ],
   "source": [
    "y_regression_3 = poly_3.predict(x)\n",
    "y_regression_9 = poly_9.predict(x)\n",
    "\n",
    "error_3 = mean_squared_error(y, y_regression_3)\n",
    "error_9 = mean_squared_error(y, y_regression_9)\n",
    "print(\"Error for regression with 3rd degree polynomial\", error_3)\n",
    "print(\"Error for regression with 9th degree polynomial\", error_9)"
   ]
  },
  {
   "cell_type": "markdown",
   "metadata": {
    "slideshow": {
     "slide_type": "slide"
    }
   },
   "source": [
    "#### Takeaways\n",
    "- Regression modelling is a supervised learning approach widely useful in the real-world tasks.\n",
    "- Linear regression is simple method but can be very efficient if equipped with non-linear basis functions.\n",
    "- It is easy to make things go wrong while trying to make your model better and more powerful. How to control the quality of your model and improve is going to be covered on the next lecture."
   ]
  },
  {
   "cell_type": "markdown",
   "metadata": {
    "nbpresent": {
     "id": "f89fef10-a97b-4237-9e26-fbe03001dcbe"
    },
    "slideshow": {
     "slide_type": "slide"
    }
   },
   "source": [
    "#### Literature\n",
    "\n",
    "- Introduction to Statistical Learning by Hastie and Tibshirani, Springer, 2013\n",
    "- All of Statistics: A Concise Course in Statistical Inference by Larry Wassermann, Springer.\n",
    "- The Elements of Statistical Learning, 2nd edition by Hastie, Tibshirani and Friedman, Springer-Verlag, 2008 (available online).\n",
    "- Pattern Recognition and Machine Learning by Bishop, Springer, 2006.  \n",
    "- Machine Learning: A Probabilistic Perspective by Kevin P. Murphy, MIT Press, 2012.\n",
    "\n",
    "\n",
    " "
   ]
  }
 ],
 "metadata": {
  "anaconda-cloud": {},
  "celltoolbar": "Slideshow",
  "kernelspec": {
   "display_name": "Python 3",
   "language": "python",
   "name": "python3"
  },
  "language_info": {
   "codemirror_mode": {
    "name": "ipython",
    "version": 3
   },
   "file_extension": ".py",
   "mimetype": "text/x-python",
   "name": "python",
   "nbconvert_exporter": "python",
   "pygments_lexer": "ipython3",
   "version": "3.7.4"
  },
  "nbpresent": {
   "slides": {
    "04f5092d-d0c6-425e-8486-0f5ef31dd9bc": {
     "id": "04f5092d-d0c6-425e-8486-0f5ef31dd9bc",
     "prev": "786daec7-2b6e-4169-b9ac-89d1fd62e252",
     "regions": {
      "bd60eea3-4301-417e-a49e-3e10a4f89157": {
       "attrs": {
        "height": 0.8,
        "width": 0.8,
        "x": 0.1,
        "y": 0.1
       },
       "content": {
        "cell": "7ac71b15-da09-4878-abe5-ab79266814a7",
        "part": "whole"
       },
       "id": "bd60eea3-4301-417e-a49e-3e10a4f89157"
      }
     }
    },
    "1527cdb1-5ec6-49c7-9b38-59d5047dd483": {
     "id": "1527cdb1-5ec6-49c7-9b38-59d5047dd483",
     "prev": "292ddf9c-7798-4d48-a7fe-cc1dd4f7f041",
     "regions": {
      "55babf68-e937-4b02-9f88-54a4c98680c7": {
       "attrs": {
        "height": 0.8,
        "width": 0.8,
        "x": 0.1,
        "y": 0.1
       },
       "content": {
        "cell": "1b2d9655-4ff1-4774-b1fa-6b47c5710fa5",
        "part": "whole"
       },
       "id": "55babf68-e937-4b02-9f88-54a4c98680c7"
      }
     }
    },
    "18ea9bc9-2255-4d65-838a-2084cbb77ebe": {
     "id": "18ea9bc9-2255-4d65-838a-2084cbb77ebe",
     "prev": "52d80e84-84d7-4e6f-98b4-fee7ae45a8cf",
     "regions": {
      "458faba1-1793-4732-a327-042d0892523d": {
       "attrs": {
        "height": 0.8,
        "width": 0.8,
        "x": 0.1,
        "y": 0.1
       },
       "content": {
        "cell": "c1b261e7-7bfa-41f6-9902-a8f6cdac4fa5",
        "part": "whole"
       },
       "id": "458faba1-1793-4732-a327-042d0892523d"
      }
     }
    },
    "19baba65-c913-440a-ac73-ee1e0827caf5": {
     "id": "19baba65-c913-440a-ac73-ee1e0827caf5",
     "prev": "afdc8a7e-f815-4e21-b92c-9cbf4cf9d7e9",
     "regions": {
      "c22acbbd-1fa3-4906-b6e3-1dc2e0b951f0": {
       "attrs": {
        "height": 0.8,
        "width": 0.8,
        "x": 0.1,
        "y": 0.1
       },
       "content": {
        "cell": "24d6141e-0b06-4632-a30b-4906c8391e7f",
        "part": "whole"
       },
       "id": "c22acbbd-1fa3-4906-b6e3-1dc2e0b951f0"
      }
     }
    },
    "292ddf9c-7798-4d48-a7fe-cc1dd4f7f041": {
     "id": "292ddf9c-7798-4d48-a7fe-cc1dd4f7f041",
     "prev": "e205f9e3-8ff6-4c7c-b415-b9a4fee3d07e",
     "regions": {
      "336d2942-fa58-47d7-b6c5-02c61cfdd6fc": {
       "attrs": {
        "height": 0.8,
        "width": 0.8,
        "x": 0.1,
        "y": 0.1
       },
       "content": {
        "cell": "b368ac92-6f0d-4974-8ac4-b6d7525771e8",
        "part": "whole"
       },
       "id": "336d2942-fa58-47d7-b6c5-02c61cfdd6fc"
      }
     }
    },
    "2c687623-baa5-4573-97fd-385da4a28029": {
     "id": "2c687623-baa5-4573-97fd-385da4a28029",
     "prev": "e4049fc4-89e5-4c98-9493-d1bb1237d18f",
     "regions": {
      "90b85796-e413-4d18-89c4-661ed0179674": {
       "attrs": {
        "height": 0.8,
        "width": 0.8,
        "x": 0.1,
        "y": 0.1
       },
       "content": {
        "cell": "38f95669-15b2-4a36-9cb5-22c44fabd713",
        "part": "whole"
       },
       "id": "90b85796-e413-4d18-89c4-661ed0179674"
      }
     }
    },
    "2e07258a-fb8d-455c-9b2c-33444decfc22": {
     "id": "2e07258a-fb8d-455c-9b2c-33444decfc22",
     "prev": "5ce603df-20d0-4ba0-8f15-d2ba953e6d53",
     "regions": {
      "6dc21ee6-9cd3-434a-8792-386d6e180967": {
       "attrs": {
        "height": 0.8,
        "width": 0.8,
        "x": 0.1,
        "y": 0.1
       },
       "content": {
        "cell": "a0dc1c2c-3945-4cf8-8e93-5f13b49752d7",
        "part": "whole"
       },
       "id": "6dc21ee6-9cd3-434a-8792-386d6e180967"
      }
     }
    },
    "2f0255a9-2ac7-4e82-9523-d89f407aa404": {
     "id": "2f0255a9-2ac7-4e82-9523-d89f407aa404",
     "prev": "3d84bad3-7a42-4503-9207-fbecdc52953d",
     "regions": {
      "410481dd-0b35-43f3-97fc-25639d544775": {
       "attrs": {
        "height": 0.8,
        "width": 0.8,
        "x": 0.1,
        "y": 0.1
       },
       "content": {
        "cell": "94c16cda-5ad4-4dcb-8953-dc48acdab002",
        "part": "whole"
       },
       "id": "410481dd-0b35-43f3-97fc-25639d544775"
      }
     }
    },
    "31e34f14-11f5-4071-95bf-e6e4578d0478": {
     "id": "31e34f14-11f5-4071-95bf-e6e4578d0478",
     "prev": "2f0255a9-2ac7-4e82-9523-d89f407aa404",
     "regions": {
      "ecc92793-2264-49ec-a9a0-b20106e07976": {
       "attrs": {
        "height": 0.8,
        "width": 0.8,
        "x": 0.1,
        "y": 0.1
       },
       "content": {
        "cell": "22d29b6d-0926-4cc4-8431-48bb79660554",
        "part": "whole"
       },
       "id": "ecc92793-2264-49ec-a9a0-b20106e07976"
      }
     }
    },
    "3462d32b-b932-401c-aa09-9cd88f37c152": {
     "id": "3462d32b-b932-401c-aa09-9cd88f37c152",
     "prev": "77ac26ae-e3a8-4002-b410-24a17e3ae3ca",
     "regions": {
      "c7393319-670c-4eaa-8dcf-953b609c21bb": {
       "attrs": {
        "height": 0.8,
        "width": 0.8,
        "x": 0.1,
        "y": 0.1
       },
       "content": {
        "cell": "6a1ce0cc-597b-491f-88bb-3a17aa8380b3",
        "part": "whole"
       },
       "id": "c7393319-670c-4eaa-8dcf-953b609c21bb"
      }
     }
    },
    "349b4bd8-4f03-423f-8cd1-1b88a8ff6231": {
     "id": "349b4bd8-4f03-423f-8cd1-1b88a8ff6231",
     "prev": "71b15e44-5f81-42ad-b4db-1c978712e624",
     "regions": {
      "1b81a48d-fb27-4986-bd1a-ec7c96ab063e": {
       "attrs": {
        "height": 0.8,
        "width": 0.8,
        "x": 0.1,
        "y": 0.1
       },
       "content": {
        "cell": "8b6197b7-b60c-4414-addc-ab54638550b0",
        "part": "whole"
       },
       "id": "1b81a48d-fb27-4986-bd1a-ec7c96ab063e"
      }
     }
    },
    "3d84bad3-7a42-4503-9207-fbecdc52953d": {
     "id": "3d84bad3-7a42-4503-9207-fbecdc52953d",
     "prev": "44c5409e-80e5-4018-83fd-8383ccbff93e",
     "regions": {
      "0a9db64d-c6fe-49aa-ac85-5492ffefc96e": {
       "attrs": {
        "height": 0.8,
        "width": 0.8,
        "x": 0.1,
        "y": 0.1
       },
       "content": {
        "cell": "c73a47bf-833a-4638-8e2b-f23899d50442",
        "part": "whole"
       },
       "id": "0a9db64d-c6fe-49aa-ac85-5492ffefc96e"
      }
     }
    },
    "3df1f954-c0a9-458d-9aea-a861a6c81702": {
     "id": "3df1f954-c0a9-458d-9aea-a861a6c81702",
     "prev": "e0f08442-2c5c-4927-8a9b-3090b7c6f713",
     "regions": {
      "deac88c5-37b8-440b-9f13-da5e8adff42a": {
       "attrs": {
        "height": 0.8,
        "width": 0.8,
        "x": 0.1,
        "y": 0.1
       },
       "content": {
        "cell": "cd523f7a-177e-4371-9d39-673a9b7a0543",
        "part": "whole"
       },
       "id": "deac88c5-37b8-440b-9f13-da5e8adff42a"
      }
     }
    },
    "3e798741-6ef2-4aa4-8d41-dc2c9a329f28": {
     "id": "3e798741-6ef2-4aa4-8d41-dc2c9a329f28",
     "prev": "b88b7c17-a019-4784-bc60-507288081355",
     "regions": {
      "358afee5-0a6a-48d1-ac02-3aa0772f5b37": {
       "attrs": {
        "height": 0.8,
        "width": 0.8,
        "x": 0.1,
        "y": 0.1
       },
       "content": {
        "cell": "a01144d7-38bd-4b3b-8102-9792740cbd09",
        "part": "whole"
       },
       "id": "358afee5-0a6a-48d1-ac02-3aa0772f5b37"
      }
     }
    },
    "44c5409e-80e5-4018-83fd-8383ccbff93e": {
     "id": "44c5409e-80e5-4018-83fd-8383ccbff93e",
     "prev": "18ea9bc9-2255-4d65-838a-2084cbb77ebe",
     "regions": {
      "2cc5558e-5427-4a3d-a74e-f637462650fe": {
       "attrs": {
        "height": 0.8,
        "width": 0.8,
        "x": 0.1,
        "y": 0.1
       },
       "content": {
        "cell": "120c97e7-051c-4fdb-80aa-2cd592aee009",
        "part": "whole"
       },
       "id": "2cc5558e-5427-4a3d-a74e-f637462650fe"
      }
     }
    },
    "4e5532d4-c436-4406-9a63-e6622ade8d9f": {
     "id": "4e5532d4-c436-4406-9a63-e6622ade8d9f",
     "prev": "ac41169c-69b8-470d-9fd3-2468e943732e",
     "regions": {
      "98ffd66f-ef2e-475f-a3e1-c0daf4f2feca": {
       "attrs": {
        "height": 0.8,
        "width": 0.8,
        "x": 0.1,
        "y": 0.1
       },
       "content": {
        "cell": "1fa8bb8c-ca46-4099-ab96-f8e14566c79e",
        "part": "whole"
       },
       "id": "98ffd66f-ef2e-475f-a3e1-c0daf4f2feca"
      }
     }
    },
    "52d80e84-84d7-4e6f-98b4-fee7ae45a8cf": {
     "id": "52d80e84-84d7-4e6f-98b4-fee7ae45a8cf",
     "prev": "3df1f954-c0a9-458d-9aea-a861a6c81702",
     "regions": {
      "4f60cfc3-47ac-44aa-b011-5ed44f1f9049": {
       "attrs": {
        "height": 0.8,
        "width": 0.8,
        "x": 0.1,
        "y": 0.1
       },
       "content": {
        "cell": "28b01fd8-f2c8-4d66-b4d8-6c6734d7b571",
        "part": "whole"
       },
       "id": "4f60cfc3-47ac-44aa-b011-5ed44f1f9049"
      }
     }
    },
    "530fd5e9-dfce-45fe-a4f7-06ee645b1a8a": {
     "id": "530fd5e9-dfce-45fe-a4f7-06ee645b1a8a",
     "prev": "7f7f667d-84e0-43c7-899f-0a6b7e2fc4c5",
     "regions": {
      "d9c9d55d-6fdc-41c5-aaf6-af4847096108": {
       "attrs": {
        "height": 0.8,
        "width": 0.8,
        "x": 0.1,
        "y": 0.1
       },
       "content": {
        "cell": "5b016ad1-bcab-4631-afe8-8580d33b7d6c",
        "part": "whole"
       },
       "id": "d9c9d55d-6fdc-41c5-aaf6-af4847096108"
      }
     }
    },
    "552bef3e-ce09-48a3-8ddd-66df99c1053f": {
     "id": "552bef3e-ce09-48a3-8ddd-66df99c1053f",
     "prev": "2e07258a-fb8d-455c-9b2c-33444decfc22",
     "regions": {
      "3eaeb9d8-f483-4289-88c9-5c67419a759b": {
       "attrs": {
        "height": 0.8,
        "width": 0.8,
        "x": 0.1,
        "y": 0.1
       },
       "content": {
        "cell": "d40dd8ff-5c86-4185-bde8-ba136430f5e9",
        "part": "whole"
       },
       "id": "3eaeb9d8-f483-4289-88c9-5c67419a759b"
      }
     }
    },
    "59c7b75c-9708-472a-be10-747df7276055": {
     "id": "59c7b75c-9708-472a-be10-747df7276055",
     "prev": "b79a8987-14b8-436b-8b43-fff3abca110d",
     "regions": {
      "fdba5fc9-24e3-413c-a6eb-9a7e1e8eaf37": {
       "attrs": {
        "height": 0.8,
        "width": 0.8,
        "x": 0.1,
        "y": 0.1
       },
       "content": {
        "cell": "7d50d8e6-1c20-4f51-9b51-ed6eca91e2e2",
        "part": "whole"
       },
       "id": "fdba5fc9-24e3-413c-a6eb-9a7e1e8eaf37"
      }
     }
    },
    "5aa5226e-f18b-4a11-b0dd-4d5acbd89c43": {
     "id": "5aa5226e-f18b-4a11-b0dd-4d5acbd89c43",
     "prev": "3e798741-6ef2-4aa4-8d41-dc2c9a329f28",
     "regions": {
      "233aa0b7-e635-4f55-8db2-6d6233f00a4a": {
       "attrs": {
        "height": 0.8,
        "width": 0.8,
        "x": 0.1,
        "y": 0.1
       },
       "content": {
        "cell": "362d936c-3236-4d6a-8372-0c986f0638a8",
        "part": "whole"
       },
       "id": "233aa0b7-e635-4f55-8db2-6d6233f00a4a"
      }
     }
    },
    "5ce603df-20d0-4ba0-8f15-d2ba953e6d53": {
     "id": "5ce603df-20d0-4ba0-8f15-d2ba953e6d53",
     "prev": "59c7b75c-9708-472a-be10-747df7276055",
     "regions": {
      "161ab9fc-a3d4-49e6-8b84-7e97f18ab88a": {
       "attrs": {
        "height": 0.8,
        "width": 0.8,
        "x": 0.1,
        "y": 0.1
       },
       "content": {
        "cell": "16bc5627-9ba4-4719-b823-9230aee1c8f2",
        "part": "whole"
       },
       "id": "161ab9fc-a3d4-49e6-8b84-7e97f18ab88a"
      }
     }
    },
    "63dd4122-f4aa-4a81-a35c-ebdf60ef0361": {
     "id": "63dd4122-f4aa-4a81-a35c-ebdf60ef0361",
     "prev": "349b4bd8-4f03-423f-8cd1-1b88a8ff6231",
     "regions": {
      "48627c8d-d65a-4077-9821-9358c0f546d4": {
       "attrs": {
        "height": 0.8,
        "width": 0.8,
        "x": 0.1,
        "y": 0.1
       },
       "content": {
        "cell": "f89fef10-a97b-4237-9e26-fbe03001dcbe",
        "part": "whole"
       },
       "id": "48627c8d-d65a-4077-9821-9358c0f546d4"
      }
     }
    },
    "6536fceb-e0f0-4855-bc8c-3fc899a54167": {
     "id": "6536fceb-e0f0-4855-bc8c-3fc899a54167",
     "prev": "92cfb87b-986c-4bbf-8064-1b883d58ad39",
     "regions": {
      "39b2623f-942c-4531-bdb7-1d06d5d2c801": {
       "attrs": {
        "height": 0.8,
        "width": 0.8,
        "x": 0.1,
        "y": 0.1
       },
       "content": {
        "cell": "4b5a3cab-229a-4cb0-af06-2cf34990c930",
        "part": "whole"
       },
       "id": "39b2623f-942c-4531-bdb7-1d06d5d2c801"
      }
     }
    },
    "71745d6c-d1a7-4479-9f00-d5564940610c": {
     "id": "71745d6c-d1a7-4479-9f00-d5564940610c",
     "prev": "deaf2467-80e3-4079-99a9-8c5c4b497a07",
     "regions": {
      "f0a97cf0-be5d-48cf-af4e-f39ac7a62490": {
       "attrs": {
        "height": 0.8,
        "width": 0.8,
        "x": 0.1,
        "y": 0.1
       },
       "content": {
        "cell": "0862a527-7cd6-491e-b1ff-30eb0de9f3ac",
        "part": "whole"
       },
       "id": "f0a97cf0-be5d-48cf-af4e-f39ac7a62490"
      }
     }
    },
    "71b15e44-5f81-42ad-b4db-1c978712e624": {
     "id": "71b15e44-5f81-42ad-b4db-1c978712e624",
     "prev": "ca25b474-07f9-4506-aabb-3d5e8d8062de",
     "regions": {
      "92e387ed-da8d-4655-a6e2-0303197386b3": {
       "attrs": {
        "height": 0.8,
        "width": 0.8,
        "x": 0.1,
        "y": 0.1
       },
       "content": {
        "cell": "cc18100d-a2a6-466e-b39b-1d87c284f2be",
        "part": "whole"
       },
       "id": "92e387ed-da8d-4655-a6e2-0303197386b3"
      }
     }
    },
    "77ac26ae-e3a8-4002-b410-24a17e3ae3ca": {
     "id": "77ac26ae-e3a8-4002-b410-24a17e3ae3ca",
     "prev": "bcf83381-51b4-40a0-a36b-891b53b89d44",
     "regions": {
      "cd5d5abf-dc16-4d48-95ef-77e61f359950": {
       "attrs": {
        "height": 0.8,
        "width": 0.8,
        "x": 0.1,
        "y": 0.1
       },
       "content": {
        "cell": "17e1095f-a0b7-4499-a745-eaff439c2e81",
        "part": "whole"
       },
       "id": "cd5d5abf-dc16-4d48-95ef-77e61f359950"
      }
     }
    },
    "786daec7-2b6e-4169-b9ac-89d1fd62e252": {
     "id": "786daec7-2b6e-4169-b9ac-89d1fd62e252",
     "prev": "19baba65-c913-440a-ac73-ee1e0827caf5",
     "regions": {
      "68098951-0b4e-4a4e-8363-40fece45efc8": {
       "attrs": {
        "height": 0.8,
        "width": 0.8,
        "x": 0.1,
        "y": 0.1
       },
       "content": {
        "cell": "5ea105c8-850b-48b0-ac91-5e0d43028b71",
        "part": "whole"
       },
       "id": "68098951-0b4e-4a4e-8363-40fece45efc8"
      }
     }
    },
    "78bdaa9b-3364-4d56-b667-3bd630c0177f": {
     "id": "78bdaa9b-3364-4d56-b667-3bd630c0177f",
     "prev": "cf5420be-888d-4e10-adee-98198b2148d2",
     "regions": {
      "adb8ad30-6284-4a65-8426-df783c4259d3": {
       "attrs": {
        "height": 0.8,
        "width": 0.8,
        "x": 0.1,
        "y": 0.1
       },
       "content": {
        "cell": "9a2444b3-8a9a-4f7d-9394-05f3e703f418",
        "part": "whole"
       },
       "id": "adb8ad30-6284-4a65-8426-df783c4259d3"
      }
     }
    },
    "7b469058-4220-4cbb-813c-7921508aae24": {
     "id": "7b469058-4220-4cbb-813c-7921508aae24",
     "prev": "7f17a16e-cbe7-4a77-bf46-741f34ee2abb",
     "regions": {
      "b2ff0baf-252b-4519-9f3e-a1c71baa56d0": {
       "attrs": {
        "height": 0.8,
        "width": 0.8,
        "x": 0.1,
        "y": 0.1
       },
       "content": {
        "cell": "b9173966-1f89-4533-afa7-917fd3a6f21d",
        "part": "whole"
       },
       "id": "b2ff0baf-252b-4519-9f3e-a1c71baa56d0"
      }
     }
    },
    "7f17a16e-cbe7-4a77-bf46-741f34ee2abb": {
     "id": "7f17a16e-cbe7-4a77-bf46-741f34ee2abb",
     "prev": "dfea57fd-e34f-49e3-8508-df2034330400",
     "regions": {
      "8b784cb5-6e6b-4741-a01f-e7a875fd2b4a": {
       "attrs": {
        "height": 0.8,
        "width": 0.8,
        "x": 0.1,
        "y": 0.1
       },
       "content": {
        "cell": "23138de7-cb10-47fe-bd8d-545eb2c7c2a7",
        "part": "whole"
       },
       "id": "8b784cb5-6e6b-4741-a01f-e7a875fd2b4a"
      }
     }
    },
    "7f7f667d-84e0-43c7-899f-0a6b7e2fc4c5": {
     "id": "7f7f667d-84e0-43c7-899f-0a6b7e2fc4c5",
     "prev": "5aa5226e-f18b-4a11-b0dd-4d5acbd89c43",
     "regions": {
      "c6207b0f-27f3-49fc-902b-0fa1603871a0": {
       "attrs": {
        "height": 0.8,
        "width": 0.8,
        "x": 0.1,
        "y": 0.1
       },
       "content": {
        "cell": "465bffc5-b411-40c9-a190-fa52c16b91a1",
        "part": "whole"
       },
       "id": "c6207b0f-27f3-49fc-902b-0fa1603871a0"
      }
     }
    },
    "883a1a7e-2f26-4cc3-9907-7d92254ad272": {
     "id": "883a1a7e-2f26-4cc3-9907-7d92254ad272",
     "prev": "7b469058-4220-4cbb-813c-7921508aae24",
     "regions": {
      "59044199-d92f-4c63-b72d-876a9186b732": {
       "attrs": {
        "height": 0.8,
        "width": 0.8,
        "x": 0.1,
        "y": 0.1
       },
       "content": {
        "cell": "da7d7d5c-1120-4482-8d87-b4ef90834a8e",
        "part": "whole"
       },
       "id": "59044199-d92f-4c63-b72d-876a9186b732"
      }
     }
    },
    "92cfb87b-986c-4bbf-8064-1b883d58ad39": {
     "id": "92cfb87b-986c-4bbf-8064-1b883d58ad39",
     "prev": "3462d32b-b932-401c-aa09-9cd88f37c152",
     "regions": {
      "a3657413-de2e-4422-804c-c4519a8e4fc3": {
       "attrs": {
        "height": 0.8,
        "width": 0.8,
        "x": 0.1,
        "y": 0.1
       },
       "content": {
        "cell": "cc18287c-2093-4877-a442-228dbf1a5710",
        "part": "whole"
       },
       "id": "a3657413-de2e-4422-804c-c4519a8e4fc3"
      }
     }
    },
    "a0a0f8fd-b519-4272-871b-86cd0288c94d": {
     "id": "a0a0f8fd-b519-4272-871b-86cd0288c94d",
     "prev": "f4e21a3f-1964-463f-b449-7df98672c0f3",
     "regions": {
      "471a1a2b-e2e6-4795-bd63-73a71bb3c1a6": {
       "attrs": {
        "height": 0.8,
        "width": 0.8,
        "x": 0.1,
        "y": 0.1
       },
       "content": {
        "cell": "549e9166-c556-4a21-8e0b-73adc7b18c06",
        "part": "whole"
       },
       "id": "471a1a2b-e2e6-4795-bd63-73a71bb3c1a6"
      }
     }
    },
    "ac41169c-69b8-470d-9fd3-2468e943732e": {
     "id": "ac41169c-69b8-470d-9fd3-2468e943732e",
     "prev": "ebbc74a5-2552-41ba-83f5-f6d4d04f5fdb",
     "regions": {
      "9332c11a-d5bd-4706-a8a6-7af60fdd0360": {
       "attrs": {
        "height": 0.8,
        "width": 0.8,
        "x": 0.1,
        "y": 0.1
       },
       "content": {
        "cell": "6f2a55cf-2ec8-421a-89b2-e1498402fe16",
        "part": "whole"
       },
       "id": "9332c11a-d5bd-4706-a8a6-7af60fdd0360"
      }
     }
    },
    "ac5c7fb1-e116-4cc9-99a6-02ebed3a2752": {
     "id": "ac5c7fb1-e116-4cc9-99a6-02ebed3a2752",
     "prev": null,
     "regions": {
      "f4e0fed2-33c6-4021-911b-577efe2d9ea8": {
       "attrs": {
        "height": 0.8,
        "width": 0.8,
        "x": 0.1,
        "y": 0.1
       },
       "content": {
        "cell": "8f2e0e30-1c98-48e3-8657-9e75c55d9cbf",
        "part": "whole"
       },
       "id": "f4e0fed2-33c6-4021-911b-577efe2d9ea8"
      }
     }
    },
    "afdc8a7e-f815-4e21-b92c-9cbf4cf9d7e9": {
     "id": "afdc8a7e-f815-4e21-b92c-9cbf4cf9d7e9",
     "prev": "78bdaa9b-3364-4d56-b667-3bd630c0177f",
     "regions": {
      "6fcbc5be-8df2-48f9-a63c-22e613130e6e": {
       "attrs": {
        "height": 0.8,
        "width": 0.8,
        "x": 0.1,
        "y": 0.1
       },
       "content": {
        "cell": "4a57e8ff-eb7f-4d5d-84ff-057ec818c169",
        "part": "whole"
       },
       "id": "6fcbc5be-8df2-48f9-a63c-22e613130e6e"
      }
     }
    },
    "b79a8987-14b8-436b-8b43-fff3abca110d": {
     "id": "b79a8987-14b8-436b-8b43-fff3abca110d",
     "prev": "4e5532d4-c436-4406-9a63-e6622ade8d9f",
     "regions": {
      "12964552-4c24-4719-80b2-cb62ae3435cd": {
       "attrs": {
        "height": 0.8,
        "width": 0.8,
        "x": 0.1,
        "y": 0.1
       },
       "content": {
        "cell": "49c0411d-97f8-4df2-8812-9ba1a621d618",
        "part": "whole"
       },
       "id": "12964552-4c24-4719-80b2-cb62ae3435cd"
      }
     }
    },
    "b82c43f0-9a6d-452d-873f-86854d134bd3": {
     "id": "b82c43f0-9a6d-452d-873f-86854d134bd3",
     "prev": "883a1a7e-2f26-4cc3-9907-7d92254ad272",
     "regions": {
      "0a57b84d-8bcd-4457-844d-00eddda11227": {
       "attrs": {
        "height": 0.8,
        "width": 0.8,
        "x": 0.1,
        "y": 0.1
       },
       "content": {
        "cell": "4771a1f0-3eee-4a60-b271-72ae5c57beec",
        "part": "whole"
       },
       "id": "0a57b84d-8bcd-4457-844d-00eddda11227"
      }
     }
    },
    "b88b7c17-a019-4784-bc60-507288081355": {
     "id": "b88b7c17-a019-4784-bc60-507288081355",
     "prev": "db52a77b-9b2f-4ee6-a104-62f55b7ef973",
     "regions": {
      "31c7c01a-ce81-40ad-95e3-f4413cfe510d": {
       "attrs": {
        "height": 0.8,
        "width": 0.8,
        "x": 0.1,
        "y": 0.1
       },
       "content": {
        "cell": "a2bf681c-3823-4664-8cc4-9e844c5a8538",
        "part": "whole"
       },
       "id": "31c7c01a-ce81-40ad-95e3-f4413cfe510d"
      }
     }
    },
    "bcf83381-51b4-40a0-a36b-891b53b89d44": {
     "id": "bcf83381-51b4-40a0-a36b-891b53b89d44",
     "prev": "31e34f14-11f5-4071-95bf-e6e4578d0478",
     "regions": {
      "dfec328a-e0db-4f30-97a1-3e27a9b8dd9b": {
       "attrs": {
        "height": 0.8,
        "width": 0.8,
        "x": 0.1,
        "y": 0.1
       },
       "content": {
        "cell": "ea0f642e-6e31-4359-95d0-903721208f2c",
        "part": "whole"
       },
       "id": "dfec328a-e0db-4f30-97a1-3e27a9b8dd9b"
      }
     }
    },
    "c54500c7-cd77-4a5e-b487-162ebcde963f": {
     "id": "c54500c7-cd77-4a5e-b487-162ebcde963f",
     "prev": "530fd5e9-dfce-45fe-a4f7-06ee645b1a8a",
     "regions": {
      "19c67634-d743-41f8-9beb-43e2d7481133": {
       "attrs": {
        "height": 0.8,
        "width": 0.8,
        "x": 0.1,
        "y": 0.1
       },
       "content": {
        "cell": "5863b66f-2fca-4f12-9158-86bd98af3d29",
        "part": "whole"
       },
       "id": "19c67634-d743-41f8-9beb-43e2d7481133"
      }
     }
    },
    "ca25b474-07f9-4506-aabb-3d5e8d8062de": {
     "id": "ca25b474-07f9-4506-aabb-3d5e8d8062de",
     "prev": "b82c43f0-9a6d-452d-873f-86854d134bd3",
     "regions": {
      "9c03767d-e910-4372-bd4c-a3b6dc344ce7": {
       "attrs": {
        "height": 0.8,
        "width": 0.8,
        "x": 0.1,
        "y": 0.1
       },
       "content": {
        "cell": "4a2df9f1-db4d-48ba-a575-d4f301288f79",
        "part": "whole"
       },
       "id": "9c03767d-e910-4372-bd4c-a3b6dc344ce7"
      }
     }
    },
    "cb68b637-b776-4b90-a9e6-7117cb269da7": {
     "id": "cb68b637-b776-4b90-a9e6-7117cb269da7",
     "prev": "2c687623-baa5-4573-97fd-385da4a28029",
     "regions": {
      "11caabf5-e5a9-4fe1-808e-699d3d5c09ff": {
       "attrs": {
        "height": 0.8,
        "width": 0.8,
        "x": 0.1,
        "y": 0.1
       },
       "content": {
        "cell": "5d7588a0-1d8d-4a1a-8d1a-85cf595fda85",
        "part": "whole"
       },
       "id": "11caabf5-e5a9-4fe1-808e-699d3d5c09ff"
      }
     }
    },
    "cf5420be-888d-4e10-adee-98198b2148d2": {
     "id": "cf5420be-888d-4e10-adee-98198b2148d2",
     "prev": "c54500c7-cd77-4a5e-b487-162ebcde963f",
     "regions": {
      "98d370e0-3a4f-4448-be9c-687c74b6ab1a": {
       "attrs": {
        "height": 0.8,
        "width": 0.8,
        "x": 0.1,
        "y": 0.1
       },
       "content": {
        "cell": "60e68225-7461-47c9-b46b-5ba8e51599a3",
        "part": "whole"
       },
       "id": "98d370e0-3a4f-4448-be9c-687c74b6ab1a"
      }
     }
    },
    "db52a77b-9b2f-4ee6-a104-62f55b7ef973": {
     "id": "db52a77b-9b2f-4ee6-a104-62f55b7ef973",
     "prev": "552bef3e-ce09-48a3-8ddd-66df99c1053f",
     "regions": {
      "67a6f50e-ed52-4d39-a1a6-41f50117ed16": {
       "attrs": {
        "height": 0.8,
        "width": 0.8,
        "x": 0.1,
        "y": 0.1
       },
       "content": {
        "cell": "2db773bf-2b24-498a-a197-ce23d7aaac2f",
        "part": "whole"
       },
       "id": "67a6f50e-ed52-4d39-a1a6-41f50117ed16"
      }
     }
    },
    "dc128cbc-d218-4888-9a4b-ed44536c5301": {
     "id": "dc128cbc-d218-4888-9a4b-ed44536c5301",
     "prev": "ebd282b2-a7e0-47e9-8de3-67763bff7f1e",
     "regions": {
      "837d7bd4-7ec9-421d-b82b-9529da954f1c": {
       "attrs": {
        "height": 0.8,
        "width": 0.8,
        "x": 0.1,
        "y": 0.1
       },
       "content": {
        "cell": "c17d498c-c9dd-45c2-bd51-852b44108d48",
        "part": "whole"
       },
       "id": "837d7bd4-7ec9-421d-b82b-9529da954f1c"
      }
     }
    },
    "dda660d3-741b-4a1a-9517-0a7e9034eafd": {
     "id": "dda660d3-741b-4a1a-9517-0a7e9034eafd",
     "prev": "f0f3f79a-f1de-4606-89f2-4279045ebbdd",
     "regions": {
      "44407f3d-2eed-4aad-9af3-19cd15001b52": {
       "attrs": {
        "height": 0.8,
        "width": 0.8,
        "x": 0.1,
        "y": 0.1
       },
       "content": {
        "cell": "db329f5f-adf4-4d15-800c-b95718219a1d",
        "part": "whole"
       },
       "id": "44407f3d-2eed-4aad-9af3-19cd15001b52"
      }
     }
    },
    "deaf2467-80e3-4079-99a9-8c5c4b497a07": {
     "id": "deaf2467-80e3-4079-99a9-8c5c4b497a07",
     "prev": "dda660d3-741b-4a1a-9517-0a7e9034eafd",
     "regions": {
      "704c1183-bc53-4089-94e5-4d2bc38feca8": {
       "attrs": {
        "height": 0.8,
        "width": 0.8,
        "x": 0.1,
        "y": 0.1
       },
       "content": {
        "cell": "9363f9e7-dd6f-419c-a1a9-7579ef45bc33",
        "part": "whole"
       },
       "id": "704c1183-bc53-4089-94e5-4d2bc38feca8"
      }
     }
    },
    "dfea57fd-e34f-49e3-8508-df2034330400": {
     "id": "dfea57fd-e34f-49e3-8508-df2034330400",
     "prev": "04f5092d-d0c6-425e-8486-0f5ef31dd9bc",
     "regions": {
      "79a524f9-e6d2-46ca-8cdc-1a76be54e2e6": {
       "attrs": {
        "height": 0.8,
        "width": 0.8,
        "x": 0.1,
        "y": 0.1
       },
       "content": {
        "cell": "06de42fb-298b-4548-816f-ce8a4019f51d",
        "part": "whole"
       },
       "id": "79a524f9-e6d2-46ca-8cdc-1a76be54e2e6"
      }
     }
    },
    "e0f08442-2c5c-4927-8a9b-3090b7c6f713": {
     "id": "e0f08442-2c5c-4927-8a9b-3090b7c6f713",
     "prev": "ac5c7fb1-e116-4cc9-99a6-02ebed3a2752",
     "regions": {
      "c7d4a8d5-9fc4-475c-99bf-1b328c494891": {
       "attrs": {
        "height": 0.8,
        "width": 0.8,
        "x": 0.1,
        "y": 0.1
       },
       "content": {
        "cell": "4cf0b51e-d334-4609-a0f7-dfa95e9efffa",
        "part": "whole"
       },
       "id": "c7d4a8d5-9fc4-475c-99bf-1b328c494891"
      }
     }
    },
    "e205f9e3-8ff6-4c7c-b415-b9a4fee3d07e": {
     "id": "e205f9e3-8ff6-4c7c-b415-b9a4fee3d07e",
     "prev": "6536fceb-e0f0-4855-bc8c-3fc899a54167",
     "regions": {
      "0ed8cba5-a486-435f-87b0-eff6c5796f25": {
       "attrs": {
        "height": 0.8,
        "width": 0.8,
        "x": 0.1,
        "y": 0.1
       },
       "content": {
        "cell": "12e9e7f7-e964-41ee-8964-394edf847707",
        "part": "whole"
       },
       "id": "0ed8cba5-a486-435f-87b0-eff6c5796f25"
      }
     }
    },
    "e4049fc4-89e5-4c98-9493-d1bb1237d18f": {
     "id": "e4049fc4-89e5-4c98-9493-d1bb1237d18f",
     "prev": "1527cdb1-5ec6-49c7-9b38-59d5047dd483",
     "regions": {
      "7f8337cc-057b-43ef-b559-2180be45c63a": {
       "attrs": {
        "height": 0.8,
        "width": 0.8,
        "x": 0.1,
        "y": 0.1
       },
       "content": {
        "cell": "2b084bae-8129-43f7-9510-a26631eb2f4b",
        "part": "whole"
       },
       "id": "7f8337cc-057b-43ef-b559-2180be45c63a"
      }
     }
    },
    "ebbc74a5-2552-41ba-83f5-f6d4d04f5fdb": {
     "id": "ebbc74a5-2552-41ba-83f5-f6d4d04f5fdb",
     "prev": "dc128cbc-d218-4888-9a4b-ed44536c5301",
     "regions": {
      "a7215061-42ee-4226-85d5-b2172793456e": {
       "attrs": {
        "height": 0.8,
        "width": 0.8,
        "x": 0.1,
        "y": 0.1
       },
       "content": {
        "cell": "9432f783-3874-4a2f-8789-1637b790a131",
        "part": "whole"
       },
       "id": "a7215061-42ee-4226-85d5-b2172793456e"
      }
     }
    },
    "ebd282b2-a7e0-47e9-8de3-67763bff7f1e": {
     "id": "ebd282b2-a7e0-47e9-8de3-67763bff7f1e",
     "prev": "71745d6c-d1a7-4479-9f00-d5564940610c",
     "regions": {
      "74d1aa9e-d261-4cf2-bbf5-055efebb289a": {
       "attrs": {
        "height": 0.8,
        "width": 0.8,
        "x": 0.1,
        "y": 0.1
       },
       "content": {
        "cell": "0b454dfa-5e84-47d7-8fcc-0cc4dbbb6071",
        "part": "whole"
       },
       "id": "74d1aa9e-d261-4cf2-bbf5-055efebb289a"
      }
     }
    },
    "f0f3f79a-f1de-4606-89f2-4279045ebbdd": {
     "id": "f0f3f79a-f1de-4606-89f2-4279045ebbdd",
     "prev": "a0a0f8fd-b519-4272-871b-86cd0288c94d",
     "regions": {
      "17afee6c-1203-4755-a21b-6ea41aef87ee": {
       "attrs": {
        "height": 0.8,
        "width": 0.8,
        "x": 0.1,
        "y": 0.1
       },
       "content": {
        "cell": "af36983f-36da-42ea-9ecf-5d6d45ee0e34",
        "part": "whole"
       },
       "id": "17afee6c-1203-4755-a21b-6ea41aef87ee"
      }
     }
    },
    "f4e21a3f-1964-463f-b449-7df98672c0f3": {
     "id": "f4e21a3f-1964-463f-b449-7df98672c0f3",
     "prev": "cb68b637-b776-4b90-a9e6-7117cb269da7",
     "regions": {
      "82127ebf-b6bd-4e6a-a7d9-a33896007463": {
       "attrs": {
        "height": 0.8,
        "width": 0.8,
        "x": 0.1,
        "y": 0.1
       },
       "content": {
        "cell": "2b702e7b-3356-4004-a57f-c4259b774876",
        "part": "whole"
       },
       "id": "82127ebf-b6bd-4e6a-a7d9-a33896007463"
      }
     }
    }
   },
   "themes": {
    "default": "663aef33-9eb1-474b-954c-293c3e61dc6f",
    "theme": {
     "0bd381f9-c836-421a-bd04-4a590cd6662d": {
      "backgrounds": {
       "backgroundColor": {
        "background-color": "backgroundColor",
        "id": "backgroundColor"
       }
      },
      "id": "0bd381f9-c836-421a-bd04-4a590cd6662d",
      "palette": {
       "backgroundColor": {
        "id": "backgroundColor",
        "rgb": [
         43,
         43,
         43
        ]
       },
       "headingColor": {
        "id": "headingColor",
        "rgb": [
         238,
         238,
         238
        ]
       },
       "linkColor": {
        "id": "linkColor",
        "rgb": [
         19,
         218,
         236
        ]
       },
       "mainColor": {
        "id": "mainColor",
        "rgb": [
         238,
         238,
         238
        ]
       }
      },
      "rules": {
       "a": {
        "color": "linkColor"
       },
       "h1": {
        "color": "headingColor",
        "font-family": "Oswald",
        "font-size": 7
       },
       "h2": {
        "color": "headingColor",
        "font-family": "Oswald",
        "font-size": 5
       },
       "h3": {
        "color": "headingColor",
        "font-family": "Oswald",
        "font-size": 3.75
       },
       "h4": {
        "color": "headingColor",
        "font-family": "Oswald",
        "font-size": 3
       },
       "h5": {
        "color": "headingColor",
        "font-family": "Oswald"
       },
       "h6": {
        "color": "headingColor",
        "font-family": "Oswald"
       },
       "h7": {
        "color": "headingColor",
        "font-family": "Oswald"
       },
       "li": {
        "color": "mainColor",
        "font-family": "Lato",
        "font-size": 5
       },
       "p": {
        "color": "mainColor",
        "font-family": "Lato",
        "font-size": 5
       }
      },
      "text-base": {
       "color": "mainColor",
       "font-family": "Lato",
       "font-size": 5
      }
     },
     "663aef33-9eb1-474b-954c-293c3e61dc6f": {
      "id": "663aef33-9eb1-474b-954c-293c3e61dc6f",
      "palette": {
       "19cc588f-0593-49c9-9f4b-e4d7cc113b1c": {
        "id": "19cc588f-0593-49c9-9f4b-e4d7cc113b1c",
        "rgb": [
         252,
         252,
         252
        ]
       },
       "31af15d2-7e15-44c5-ab5e-e04b16a89eff": {
        "id": "31af15d2-7e15-44c5-ab5e-e04b16a89eff",
        "rgb": [
         68,
         68,
         68
        ]
       },
       "50f92c45-a630-455b-aec3-788680ec7410": {
        "id": "50f92c45-a630-455b-aec3-788680ec7410",
        "rgb": [
         155,
         177,
         192
        ]
       },
       "c5cc3653-2ee1-402a-aba2-7caae1da4f6c": {
        "id": "c5cc3653-2ee1-402a-aba2-7caae1da4f6c",
        "rgb": [
         43,
         126,
         184
        ]
       },
       "efa7f048-9acb-414c-8b04-a26811511a21": {
        "id": "efa7f048-9acb-414c-8b04-a26811511a21",
        "rgb": [
         25.118061674008803,
         73.60176211453744,
         107.4819383259912
        ]
       }
      },
      "rules": {
       "blockquote": {
        "color": "50f92c45-a630-455b-aec3-788680ec7410"
       },
       "code": {
        "font-family": "Anonymous Pro"
       },
       "h1": {
        "color": "c5cc3653-2ee1-402a-aba2-7caae1da4f6c",
        "font-family": "Lato",
        "font-size": 8
       },
       "h2": {
        "color": "c5cc3653-2ee1-402a-aba2-7caae1da4f6c",
        "font-family": "Lato",
        "font-size": 6
       },
       "h3": {
        "color": "50f92c45-a630-455b-aec3-788680ec7410",
        "font-family": "Lato",
        "font-size": 5.5
       },
       "h4": {
        "color": "c5cc3653-2ee1-402a-aba2-7caae1da4f6c",
        "font-family": "Lato",
        "font-size": 5
       },
       "h5": {
        "font-family": "Lato"
       },
       "h6": {
        "font-family": "Lato"
       },
       "h7": {
        "font-family": "Lato"
       },
       "pre": {
        "font-family": "Anonymous Pro",
        "font-size": 4
       }
      },
      "text-base": {
       "font-family": "Merriweather",
       "font-size": 4
      }
     }
    }
   }
  }
 },
 "nbformat": 4,
 "nbformat_minor": 1
}
